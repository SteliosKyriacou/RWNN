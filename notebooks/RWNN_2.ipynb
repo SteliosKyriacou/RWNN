{
 "cells": [
  {
   "cell_type": "code",
   "execution_count": 810,
   "metadata": {},
   "outputs": [],
   "source": [
    "import tensorflow.keras as keras\n",
    "import numpy as np\n",
    "import matplotlib\n",
    "from tensorflow.keras.models import Sequential\n",
    "from tensorflow.keras.layers import Dense\n",
    "import matplotlib.pyplot as plt\n",
    "from networkx.drawing.nx_agraph import to_agraph\n",
    "import pygraphviz\n",
    "import graphviz\n",
    "import networkx as nx\n",
    "plt.rcParams['figure.figsize'] = [15, 5]\n",
    "# from RWNN import RWNNmodel"
   ]
  },
  {
   "cell_type": "code",
   "execution_count": 835,
   "metadata": {},
   "outputs": [],
   "source": [
    "from tensorflow.python.eager import backprop\n",
    "import tensorflow as tf\n",
    "from tensorflow.keras.constraints import Constraint\n",
    "from tensorflow.python.eager import context\n",
    "from tensorflow.python.framework import constant_op\n",
    "from tensorflow.python.framework import dtypes\n",
    "from tensorflow.python.framework import ops\n",
    "from tensorflow.python.framework import tensor_shape\n",
    "from tensorflow.python.keras import activations\n",
    "from tensorflow.python.keras import backend as K\n",
    "from tensorflow.python.keras import constraints\n",
    "from tensorflow.python.keras import initializers\n",
    "from tensorflow.python.keras import regularizers\n",
    "from tensorflow.python.keras.engine.base_layer import Layer\n",
    "from tensorflow.python.keras.engine.input_spec import InputSpec\n",
    "from tensorflow.python.keras.utils import conv_utils\n",
    "from tensorflow.python.keras.utils import generic_utils\n",
    "from tensorflow.python.keras.utils import tf_utils\n",
    "from tensorflow.python.ops import array_ops\n",
    "from tensorflow.python.ops import gen_math_ops\n",
    "from tensorflow.python.ops import math_ops\n",
    "from tensorflow.python.ops import nn\n",
    "from tensorflow.python.ops import sparse_ops\n",
    "from tensorflow.python.ops import standard_ops\n",
    "from tensorflow.python.ops import variable_scope\n",
    "from tensorflow.python.platform import tf_logging\n",
    "from tensorflow.python.training.tracking import base as trackable\n",
    "from tensorflow.python.util import nest\n",
    "from tensorflow.python.util import tf_inspect\n",
    "from tensorflow.python.util.tf_export import keras_export\n",
    "\n",
    "class removeSynapses (Constraint):\n",
    "    def __init__(self, units):\n",
    "        msk=1-np.tri(units,units) #upperdiagonal mask\n",
    "        self.mask=tf.Variable(msk,dtype=tf.float32)\n",
    "    def __call__(self, w):\n",
    "        return tf.multiply(self.mask,w)\n",
    "\n",
    "\n",
    "class RWNN(Layer):\n",
    "  def __init__(self,\n",
    "               units,\n",
    "               outunits,\n",
    "               activation=None,\n",
    "               kernel_initializer='glorot_uniform',\n",
    "               iters=10,\n",
    "               kernel_regularizer=None,\n",
    "               activity_regularizer=None,\n",
    "               kernel_constraint=None,\n",
    "               **kwargs):\n",
    "    if 'input_shape' not in kwargs and 'input_dim' in kwargs:\n",
    "      kwargs['input_shape'] = (kwargs.pop('input_dim'),)\n",
    "\n",
    "    super(RWNN, self).__init__(\n",
    "        activity_regularizer=regularizers.get(activity_regularizer), **kwargs)\n",
    "\n",
    "    self.units = int(units) if not isinstance(units, int) else units\n",
    "    self.outunits=outunits\n",
    "    self.iters=iters           \n",
    "    self.activation = activations.get(activation)\n",
    "    self.use_bias = False\n",
    "    self.kernel_initializer = initializers.get(kernel_initializer)\n",
    "    self.kernel_regularizer = regularizers.get(kernel_regularizer)\n",
    "    self.kernel_constraint = constraints.get(kernel_constraint)\n",
    "    \n",
    "    self.supports_masking = True\n",
    "    self.input_spec = InputSpec(min_ndim=2)\n",
    "\n",
    "  def build(self,input_shape):\n",
    "    dtype = dtypes.as_dtype(self.dtype or K.floatx())\n",
    "    self.inunits=input_shape[-1]\n",
    "    self.kernel = self.add_weight(\n",
    "        'kernel',\n",
    "        shape=[self.units, self.units],\n",
    "        initializer=self.kernel_initializer,\n",
    "        regularizer=self.kernel_regularizer,\n",
    "        constraint=self.kernel_constraint,\n",
    "        dtype=self.dtype,\n",
    "        trainable=True)\n",
    "#     self.kernel=self.kernel_constraint.__call__(self.kernel)\n",
    "    self.built = True\n",
    "\n",
    "  def call(self, inputs,verbose=False):\n",
    "#     self.kernel=tf.multiply(self.mask,self.kernel)\n",
    "    if verbose:\n",
    "        outhistory=[]\n",
    "    inputs = math_ops.cast(inputs, self._compute_dtype)\n",
    "    rank = len(inputs.shape)\n",
    "    if inputs.shape[0] != None:\n",
    "        z =tf.zeros((inputs.shape[0],self.units-self.inunits), dtype=tf.dtypes.float32, name=None)\n",
    "    else:\n",
    "        z =tf.zeros((1,self.units-self.inunits), dtype=tf.dtypes.float32, name=None)\n",
    "    outputs = tf.concat([inputs, z], 1)\n",
    "    for j in range(self.iters):\n",
    "        outputs = gen_math_ops.mat_mul(outputs, self.kernel)\n",
    "        if self.activation is not None:\n",
    "            outputs=self.activation(outputs)\n",
    "        aux= tf.gather(outputs, [self.inunits + i for i in range(self.units-self.inunits)], axis=1)\n",
    "        outputs=tf.concat([inputs, aux], 1)\n",
    "        if verbose:\n",
    "            outhistory.append(np.array(outputs))\n",
    "#             print (outputs)\n",
    "#         print (tf.gather(outputs, [self.units-self.outunits + i for i in range(self.outunits)], axis=1))\n",
    "    if verbose:\n",
    "        return outhistory\n",
    "    return tf.gather(outputs, [self.units-self.outunits + i for i in range(self.outunits)], axis=1)\n",
    "    \n",
    "\n",
    "  def compute_output_shape(self, input_shape):\n",
    "    input_shape = tensor_shape.TensorShape(input_shape)\n",
    "    input_shape = input_shape.with_rank_at_least(2)\n",
    "    if tensor_shape.dimension_value(input_shape[-1]) is None:\n",
    "      raise ValueError(\n",
    "          'The innermost dimension of input_shape must be defined, but saw: %s'\n",
    "          % input_shape)\n",
    "    return input_shape[:-1].concatenate(self.outunits)\n",
    "#     return self.outputs\n",
    "  def plot_tree(self):\n",
    "        G = nx.DiGraph(directed=True)\n",
    "        idd=0\n",
    "        #Nodes\n",
    "        for i in range(self.inunits):\n",
    "            G.add_node(idd,type='input',style='filled',fillcolor='red')\n",
    "            idd+=1\n",
    "        for i in range(self.units-self.outunits-self.inunits):\n",
    "            G.add_node(idd,type='hidden')\n",
    "            idd+=1\n",
    "        for i in range(self.outunits):\n",
    "            G.add_node(idd,type='output',style='filled',fillcolor='blue')\n",
    "            idd+=1\n",
    "        #Connections\n",
    "        for i in range(self.units):\n",
    "            for j in range(self.units):\n",
    "                weight=self.kernel[i,j]\n",
    "                if weight != 0:\n",
    "                    G.add_edge(i,j)\n",
    "                    G[i][j]['penwidth']=abs(weight)\n",
    "                    if weight >0:\n",
    "                        G[i][j]['color']='green'\n",
    "                    else:\n",
    "                        G[i][j]['color']='red'\n",
    "\n",
    "        #plot\n",
    "        A = to_agraph(G)\n",
    "        A.layout('dot')\n",
    "        graphviz.Source(A).view()\n"
   ]
  },
  {
   "cell_type": "code",
   "execution_count": 825,
   "metadata": {},
   "outputs": [
    {
     "data": {
      "text/plain": [
       "[<matplotlib.lines.Line2D at 0x7f5fcaa9c250>]"
      ]
     },
     "execution_count": 825,
     "metadata": {},
     "output_type": "execute_result"
    },
    {
     "data": {
      "image/png": "[encoded data removed]",
      "text/plain": [
       "<Figure size 1080x360 with 1 Axes>"
      ]
     },
     "metadata": {
      "needs_background": "light"
     },
     "output_type": "display_data"
    }
   ],
   "source": [
    "#1D\n",
    "#simple 1d input -> 1d output training set (easy visualization)\n",
    "seed=0\n",
    "rng=np.random.RandomState(seed)\n",
    "x=2*rng.rand(1000,1)-1\n",
    "y=(x)**2\n",
    "plt.plot(x,y,'.',)"
   ]
  },
  {
   "cell_type": "code",
   "execution_count": 826,
   "metadata": {},
   "outputs": [
    {
     "name": "stdout",
     "output_type": "stream",
     "text": [
      "<tf.Variable 'kernel:0' shape=(5, 5) dtype=float32, numpy=\n",
      "array([[-0.4351337 , -0.0031662 ,  0.43091702, -0.9595959 , -0.8428037 ],\n",
      "       [ 0.25311875,  0.50999665, -0.6535883 , -0.7425747 , -0.89465904],\n",
      "       [ 0.8850584 , -0.5390961 , -0.04491687, -0.5068898 ,  0.449152  ],\n",
      "       [ 0.5381317 ,  0.07382178, -0.6625898 ,  0.0056169 , -0.6001148 ],\n",
      "       [-0.92940617, -0.37443924, -0.05121136,  0.11959887,  0.64707446]],\n",
      "      dtype=float32)>\n",
      "tf.Tensor(\n",
      "[[0.5878352]\n",
      " [1.1756704]\n",
      " [1.7635059]], shape=(3, 1), dtype=float32)\n",
      "(3, 1)\n"
     ]
    }
   ],
   "source": [
    "init=keras.initializers.RandomUniform(minval=-1, maxval=1, seed=42)\n",
    "a=RWNN(5,1, activation=None,kernel_initializer=init, kernel_constraint=removeSynapses(5))\n",
    "a.build((2,))\n",
    "print (a.kernel)\n",
    "i=tf.convert_to_tensor([[1,1],[2,2],[3,3]])\n",
    "o=a.call(i)\n",
    "print (o)\n",
    "print (a.compute_output_shape(i.shape))\n",
    "a.plot_tree()"
   ]
  },
  {
   "cell_type": "code",
   "execution_count": 802,
   "metadata": {
    "scrolled": false
   },
   "outputs": [
    {
     "ename": "TypeError",
     "evalue": "('Keyword argument not understood:', 'rnel_constraint')",
     "output_type": "error",
     "traceback": [
      "\u001b[0;31m---------------------------------------------------------------------------\u001b[0m",
      "\u001b[0;31mTypeError\u001b[0m                                 Traceback (most recent call last)",
      "\u001b[0;32m<ipython-input-802-47fd82b654b9>\u001b[0m in \u001b[0;36m<module>\u001b[0;34m\u001b[0m\n\u001b[1;32m      1\u001b[0m \u001b[0minit\u001b[0m\u001b[0;34m=\u001b[0m\u001b[0mkeras\u001b[0m\u001b[0;34m.\u001b[0m\u001b[0minitializers\u001b[0m\u001b[0;34m.\u001b[0m\u001b[0mRandomUniform\u001b[0m\u001b[0;34m(\u001b[0m\u001b[0mminval\u001b[0m\u001b[0;34m=\u001b[0m\u001b[0;34m-\u001b[0m\u001b[0;36m1\u001b[0m\u001b[0;34m,\u001b[0m \u001b[0mmaxval\u001b[0m\u001b[0;34m=\u001b[0m\u001b[0;36m1\u001b[0m\u001b[0;34m,\u001b[0m \u001b[0mseed\u001b[0m\u001b[0;34m=\u001b[0m\u001b[0;36m42\u001b[0m\u001b[0;34m)\u001b[0m\u001b[0;34m\u001b[0m\u001b[0;34m\u001b[0m\u001b[0m\n\u001b[0;32m----> 2\u001b[0;31m \u001b[0ma\u001b[0m\u001b[0;34m=\u001b[0m\u001b[0mRWNN\u001b[0m\u001b[0;34m(\u001b[0m\u001b[0;36m3\u001b[0m\u001b[0;34m,\u001b[0m\u001b[0;36m1\u001b[0m\u001b[0;34m,\u001b[0m\u001b[0mactivation\u001b[0m\u001b[0;34m=\u001b[0m\u001b[0;34m'sigmoid'\u001b[0m\u001b[0;34m,\u001b[0m\u001b[0mkernel_initializer\u001b[0m\u001b[0;34m=\u001b[0m\u001b[0minit\u001b[0m\u001b[0;34m,\u001b[0m\u001b[0miters\u001b[0m\u001b[0;34m=\u001b[0m\u001b[0;36m100\u001b[0m\u001b[0;34m,\u001b[0m\u001b[0mrnel_constraint\u001b[0m\u001b[0;34m=\u001b[0m\u001b[0mremoveSynapses\u001b[0m\u001b[0;34m(\u001b[0m\u001b[0;36m5\u001b[0m\u001b[0;34m)\u001b[0m\u001b[0;34m)\u001b[0m\u001b[0;34m\u001b[0m\u001b[0;34m\u001b[0m\u001b[0m\n\u001b[0m\u001b[1;32m      3\u001b[0m \u001b[0ma\u001b[0m\u001b[0;34m.\u001b[0m\u001b[0mbuild\u001b[0m\u001b[0;34m(\u001b[0m\u001b[0;34m(\u001b[0m\u001b[0;36m1\u001b[0m\u001b[0;34m,\u001b[0m\u001b[0;34m)\u001b[0m\u001b[0;34m)\u001b[0m\u001b[0;34m\u001b[0m\u001b[0;34m\u001b[0m\u001b[0m\n\u001b[1;32m      4\u001b[0m \u001b[0mprint\u001b[0m\u001b[0;34m(\u001b[0m\u001b[0ma\u001b[0m\u001b[0;34m.\u001b[0m\u001b[0mkernel\u001b[0m\u001b[0;34m)\u001b[0m\u001b[0;34m\u001b[0m\u001b[0;34m\u001b[0m\u001b[0m\n\u001b[1;32m      5\u001b[0m \u001b[0ma\u001b[0m\u001b[0;34m.\u001b[0m\u001b[0mcall\u001b[0m\u001b[0;34m(\u001b[0m\u001b[0;34m[\u001b[0m\u001b[0;34m[\u001b[0m\u001b[0;36m1\u001b[0m\u001b[0;34m]\u001b[0m\u001b[0;34m]\u001b[0m\u001b[0;34m)\u001b[0m\u001b[0;34m\u001b[0m\u001b[0;34m\u001b[0m\u001b[0m\n",
      "\u001b[0;32m<ipython-input-799-9f00e190422e>\u001b[0m in \u001b[0;36m__init__\u001b[0;34m(self, units, outunits, activation, kernel_initializer, iters, kernel_regularizer, activity_regularizer, kernel_constraint, **kwargs)\u001b[0m\n\u001b[1;32m     53\u001b[0m \u001b[0;34m\u001b[0m\u001b[0m\n\u001b[1;32m     54\u001b[0m     super(RWNN, self).__init__(\n\u001b[0;32m---> 55\u001b[0;31m         activity_regularizer=regularizers.get(activity_regularizer), **kwargs)\n\u001b[0m\u001b[1;32m     56\u001b[0m \u001b[0;34m\u001b[0m\u001b[0m\n\u001b[1;32m     57\u001b[0m     \u001b[0mself\u001b[0m\u001b[0;34m.\u001b[0m\u001b[0munits\u001b[0m \u001b[0;34m=\u001b[0m \u001b[0mint\u001b[0m\u001b[0;34m(\u001b[0m\u001b[0munits\u001b[0m\u001b[0;34m)\u001b[0m \u001b[0;32mif\u001b[0m \u001b[0;32mnot\u001b[0m \u001b[0misinstance\u001b[0m\u001b[0;34m(\u001b[0m\u001b[0munits\u001b[0m\u001b[0;34m,\u001b[0m \u001b[0mint\u001b[0m\u001b[0;34m)\u001b[0m \u001b[0;32melse\u001b[0m \u001b[0munits\u001b[0m\u001b[0;34m\u001b[0m\u001b[0;34m\u001b[0m\u001b[0m\n",
      "\u001b[0;32m~/anaconda3/envs/tensorflow_env/lib/python3.7/site-packages/tensorflow_core/python/training/tracking/base.py\u001b[0m in \u001b[0;36m_method_wrapper\u001b[0;34m(self, *args, **kwargs)\u001b[0m\n\u001b[1;32m    455\u001b[0m     \u001b[0mself\u001b[0m\u001b[0;34m.\u001b[0m\u001b[0m_self_setattr_tracking\u001b[0m \u001b[0;34m=\u001b[0m \u001b[0;32mFalse\u001b[0m  \u001b[0;31m# pylint: disable=protected-access\u001b[0m\u001b[0;34m\u001b[0m\u001b[0;34m\u001b[0m\u001b[0m\n\u001b[1;32m    456\u001b[0m     \u001b[0;32mtry\u001b[0m\u001b[0;34m:\u001b[0m\u001b[0;34m\u001b[0m\u001b[0;34m\u001b[0m\u001b[0m\n\u001b[0;32m--> 457\u001b[0;31m       \u001b[0mresult\u001b[0m \u001b[0;34m=\u001b[0m \u001b[0mmethod\u001b[0m\u001b[0;34m(\u001b[0m\u001b[0mself\u001b[0m\u001b[0;34m,\u001b[0m \u001b[0;34m*\u001b[0m\u001b[0margs\u001b[0m\u001b[0;34m,\u001b[0m \u001b[0;34m**\u001b[0m\u001b[0mkwargs\u001b[0m\u001b[0;34m)\u001b[0m\u001b[0;34m\u001b[0m\u001b[0;34m\u001b[0m\u001b[0m\n\u001b[0m\u001b[1;32m    458\u001b[0m     \u001b[0;32mfinally\u001b[0m\u001b[0;34m:\u001b[0m\u001b[0;34m\u001b[0m\u001b[0;34m\u001b[0m\u001b[0m\n\u001b[1;32m    459\u001b[0m       \u001b[0mself\u001b[0m\u001b[0;34m.\u001b[0m\u001b[0m_self_setattr_tracking\u001b[0m \u001b[0;34m=\u001b[0m \u001b[0mprevious_value\u001b[0m  \u001b[0;31m# pylint: disable=protected-access\u001b[0m\u001b[0;34m\u001b[0m\u001b[0;34m\u001b[0m\u001b[0m\n",
      "\u001b[0;32m~/anaconda3/envs/tensorflow_env/lib/python3.7/site-packages/tensorflow_core/python/keras/engine/base_layer.py\u001b[0m in \u001b[0;36m__init__\u001b[0;34m(self, trainable, name, dtype, dynamic, **kwargs)\u001b[0m\n\u001b[1;32m    184\u001b[0m     }\n\u001b[1;32m    185\u001b[0m     \u001b[0;31m# Validate optional keyword arguments.\u001b[0m\u001b[0;34m\u001b[0m\u001b[0;34m\u001b[0m\u001b[0;34m\u001b[0m\u001b[0m\n\u001b[0;32m--> 186\u001b[0;31m     \u001b[0mgeneric_utils\u001b[0m\u001b[0;34m.\u001b[0m\u001b[0mvalidate_kwargs\u001b[0m\u001b[0;34m(\u001b[0m\u001b[0mkwargs\u001b[0m\u001b[0;34m,\u001b[0m \u001b[0mallowed_kwargs\u001b[0m\u001b[0;34m)\u001b[0m\u001b[0;34m\u001b[0m\u001b[0;34m\u001b[0m\u001b[0m\n\u001b[0m\u001b[1;32m    187\u001b[0m \u001b[0;34m\u001b[0m\u001b[0m\n\u001b[1;32m    188\u001b[0m     \u001b[0;31m# Mutable properties\u001b[0m\u001b[0;34m\u001b[0m\u001b[0;34m\u001b[0m\u001b[0;34m\u001b[0m\u001b[0m\n",
      "\u001b[0;32m~/anaconda3/envs/tensorflow_env/lib/python3.7/site-packages/tensorflow_core/python/keras/utils/generic_utils.py\u001b[0m in \u001b[0;36mvalidate_kwargs\u001b[0;34m(kwargs, allowed_kwargs, error_message)\u001b[0m\n\u001b[1;32m    716\u001b[0m   \u001b[0;32mfor\u001b[0m \u001b[0mkwarg\u001b[0m \u001b[0;32min\u001b[0m \u001b[0mkwargs\u001b[0m\u001b[0;34m:\u001b[0m\u001b[0;34m\u001b[0m\u001b[0;34m\u001b[0m\u001b[0m\n\u001b[1;32m    717\u001b[0m     \u001b[0;32mif\u001b[0m \u001b[0mkwarg\u001b[0m \u001b[0;32mnot\u001b[0m \u001b[0;32min\u001b[0m \u001b[0mallowed_kwargs\u001b[0m\u001b[0;34m:\u001b[0m\u001b[0;34m\u001b[0m\u001b[0;34m\u001b[0m\u001b[0m\n\u001b[0;32m--> 718\u001b[0;31m       \u001b[0;32mraise\u001b[0m \u001b[0mTypeError\u001b[0m\u001b[0;34m(\u001b[0m\u001b[0merror_message\u001b[0m\u001b[0;34m,\u001b[0m \u001b[0mkwarg\u001b[0m\u001b[0;34m)\u001b[0m\u001b[0;34m\u001b[0m\u001b[0;34m\u001b[0m\u001b[0m\n\u001b[0m",
      "\u001b[0;31mTypeError\u001b[0m: ('Keyword argument not understood:', 'rnel_constraint')"
     ]
    }
   ],
   "source": [
    "init=keras.initializers.RandomUniform(minval=-1, maxval=1, seed=42)\n",
    "a=RWNN(3,1,activation='sigmoid',kernel_initializer=init,iters=100,rnel_constraint=removeSynapses(5))\n",
    "a.build((1,))\n",
    "print(a.kernel)\n",
    "a.call([[1]])"
   ]
  },
  {
   "cell_type": "code",
   "execution_count": null,
   "metadata": {
    "scrolled": false
   },
   "outputs": [],
   "source": [
    "x=list(range(10))\n",
    "y=[]\n",
    "for i in x:\n",
    "    a.iters=i+1\n",
    "    y.append(np.array(a.call([[1]]))[0][0])\n",
    "    \n",
    "plt.plot(x,y)"
   ]
  },
  {
   "cell_type": "code",
   "execution_count": 803,
   "metadata": {},
   "outputs": [
    {
     "data": {
      "text/plain": [
       "<tf.Variable 'kernel:0' shape=(5, 5) dtype=float32, numpy=\n",
       "array([[-0.4351337 , -0.0031662 ,  0.43091702, -0.9595959 , -0.8428037 ],\n",
       "       [ 0.25311875,  0.50999665, -0.6535883 , -0.7425747 , -0.89465904],\n",
       "       [ 0.8850584 , -0.5390961 , -0.04491687, -0.5068898 ,  0.449152  ],\n",
       "       [ 0.5381317 ,  0.07382178, -0.6625898 ,  0.0056169 , -0.6001148 ],\n",
       "       [-0.92940617, -0.37443924, -0.05121136,  0.11959887,  0.64707446]],\n",
       "      dtype=float32)>"
      ]
     },
     "execution_count": 803,
     "metadata": {},
     "output_type": "execute_result"
    }
   ],
   "source": [
    "a.kernel"
   ]
  },
  {
   "cell_type": "code",
   "execution_count": 845,
   "metadata": {
    "scrolled": false
   },
   "outputs": [
    {
     "name": "stdout",
     "output_type": "stream",
     "text": [
      "Model: \"sequential_167\"\n",
      "_________________________________________________________________\n",
      "Layer (type)                 Output Shape              Param #   \n",
      "=================================================================\n",
      "rwnn_337 (RWNN)              (1, 1)                    625       \n",
      "_________________________________________________________________\n",
      "dense_110 (Dense)            (1, 1)                    1         \n",
      "=================================================================\n",
      "Total params: 626\n",
      "Trainable params: 626\n",
      "Non-trainable params: 0\n",
      "_________________________________________________________________\n",
      "Train on 1000 samples\n",
      "Epoch 1/40\n",
      "1000/1000 [==============================] - 1s 1ms/sample - loss: 0.1367\n",
      "Epoch 2/40\n",
      "1000/1000 [==============================] - 1s 565us/sample - loss: 0.0922\n",
      "Epoch 3/40\n",
      "1000/1000 [==============================] - 0s 351us/sample - loss: 0.0919\n",
      "Epoch 4/40\n",
      "1000/1000 [==============================] - 1s 1ms/sample - loss: 0.0913\n",
      "Epoch 5/40\n",
      "1000/1000 [==============================] - 0s 419us/sample - loss: 0.0910\n",
      "Epoch 6/40\n",
      "1000/1000 [==============================] - 0s 391us/sample - loss: 0.0907\n",
      "Epoch 7/40\n",
      "1000/1000 [==============================] - 0s 412us/sample - loss: 0.0904\n",
      "Epoch 8/40\n",
      "1000/1000 [==============================] - 0s 404us/sample - loss: 0.0902\n",
      "Epoch 9/40\n",
      "1000/1000 [==============================] - 0s 397us/sample - loss: 0.0898\n",
      "Epoch 10/40\n",
      "1000/1000 [==============================] - 0s 417us/sample - loss: 0.0894\n",
      "Epoch 11/40\n",
      "1000/1000 [==============================] - 0s 385us/sample - loss: 0.0888\n",
      "Epoch 12/40\n",
      "1000/1000 [==============================] - 1s 617us/sample - loss: 0.0880\n",
      "Epoch 13/40\n",
      "1000/1000 [==============================] - 0s 444us/sample - loss: 0.0868\n",
      "Epoch 14/40\n",
      "1000/1000 [==============================] - 0s 408us/sample - loss: 0.0855\n",
      "Epoch 15/40\n",
      "1000/1000 [==============================] - 0s 447us/sample - loss: 0.0831\n",
      "Epoch 16/40\n",
      "1000/1000 [==============================] - 0s 458us/sample - loss: 0.0802\n",
      "Epoch 17/40\n",
      "1000/1000 [==============================] - 0s 464us/sample - loss: 0.0761\n",
      "Epoch 18/40\n",
      "1000/1000 [==============================] - 0s 477us/sample - loss: 0.0710\n",
      "Epoch 19/40\n",
      "1000/1000 [==============================] - 0s 446us/sample - loss: 0.0640\n",
      "Epoch 20/40\n",
      "1000/1000 [==============================] - 0s 436us/sample - loss: 0.0560\n",
      "Epoch 21/40\n",
      "1000/1000 [==============================] - 0s 411us/sample - loss: 0.0473\n",
      "Epoch 22/40\n",
      "1000/1000 [==============================] - 0s 450us/sample - loss: 0.0384\n",
      "Epoch 23/40\n",
      "1000/1000 [==============================] - 0s 354us/sample - loss: 0.0306\n",
      "Epoch 24/40\n",
      "1000/1000 [==============================] - 1s 541us/sample - loss: 0.0238\n",
      "Epoch 25/40\n",
      "1000/1000 [==============================] - 1s 799us/sample - loss: 0.0185\n",
      "Epoch 26/40\n",
      "1000/1000 [==============================] - 0s 429us/sample - loss: 0.0144\n",
      "Epoch 27/40\n",
      "1000/1000 [==============================] - 0s 404us/sample - loss: 0.0115\n",
      "Epoch 28/40\n",
      "1000/1000 [==============================] - 0s 434us/sample - loss: 0.0093\n",
      "Epoch 29/40\n",
      "1000/1000 [==============================] - 0s 365us/sample - loss: 0.0076\n",
      "Epoch 30/40\n",
      "1000/1000 [==============================] - 0s 388us/sample - loss: 0.0064\n",
      "Epoch 31/40\n",
      "1000/1000 [==============================] - 0s 412us/sample - loss: 0.0054\n",
      "Epoch 32/40\n",
      "1000/1000 [==============================] - 0s 427us/sample - loss: 0.0047\n",
      "Epoch 33/40\n",
      "1000/1000 [==============================] - 0s 445us/sample - loss: 0.0042\n",
      "Epoch 34/40\n",
      "1000/1000 [==============================] - 0s 484us/sample - loss: 0.0038\n",
      "Epoch 35/40\n",
      "1000/1000 [==============================] - 0s 397us/sample - loss: 0.0034\n",
      "Epoch 36/40\n",
      "1000/1000 [==============================] - 0s 446us/sample - loss: 0.0031\n",
      "Epoch 37/40\n",
      "1000/1000 [==============================] - 0s 434us/sample - loss: 0.0029\n",
      "Epoch 38/40\n",
      "1000/1000 [==============================] - 0s 439us/sample - loss: 0.0028\n",
      "Epoch 39/40\n",
      "1000/1000 [==============================] - 0s 418us/sample - loss: 0.0026\n",
      "Epoch 40/40\n",
      "1000/1000 [==============================] - 0s 415us/sample - loss: 0.0025\n"
     ]
    },
    {
     "data": {
      "text/plain": [
       "[<matplotlib.lines.Line2D at 0x7f5f7d34e990>]"
      ]
     },
     "execution_count": 845,
     "metadata": {},
     "output_type": "execute_result"
    },
    {
     "data": {
      "image/png": "[encoded data removed]",
      "text/plain": [
       "<Figure size 1080x360 with 1 Axes>"
      ]
     },
     "metadata": {
      "needs_background": "light"
     },
     "output_type": "display_data"
    }
   ],
   "source": [
    "init=keras.initializers.RandomUniform(minval=-1, maxval=1, seed=42)\n",
    "\n",
    "model = Sequential() \n",
    "model.add(RWNN(25,1, activation='sigmoid',input_shape=(1,),kernel_initializer=init,iters=10, kernel_constraint=removeSynapses(25))) \n",
    "model.add(Dense(1, activation='linear',use_bias=False,kernel_initializer=init))\n",
    "          \n",
    "model.summary()\n",
    "\n",
    "opt=keras.optimizers.Adagrad(learning_rate=0.1)\n",
    "model.compile(loss='mean_squared_error',\n",
    "              optimizer=opt)\n",
    "\n",
    "\n",
    "history = model.fit(x, y,\n",
    "                    batch_size=8,\n",
    "                    epochs=40,\n",
    "                    verbose=1)\n",
    "yy=model.predict(x,batch_size=len(x))\n",
    "plt.plot(x,y,'.')\n",
    "plt.plot(x,yy,'.')"
   ]
  },
  {
   "cell_type": "code",
   "execution_count": 846,
   "metadata": {
    "scrolled": false
   },
   "outputs": [
    {
     "data": {
      "image/png": "[encoded data removed]",
      "text/plain": [
       "<Figure size 1080x360 with 1 Axes>"
      ]
     },
     "metadata": {
      "needs_background": "light"
     },
     "output_type": "display_data"
    }
   ],
   "source": [
    "o=model.layers[0].call([[0.5]],verbose=True)\n",
    "for oi in o:\n",
    "    plt.plot(oi[0])\n",
    "    "
   ]
  },
  {
   "cell_type": "code",
   "execution_count": null,
   "metadata": {},
   "outputs": [],
   "source": []
  },
  {
   "cell_type": "code",
   "execution_count": 758,
   "metadata": {},
   "outputs": [
    {
     "data": {
      "text/plain": [
       "[<matplotlib.lines.Line2D at 0x7f5f7cfd3cd0>]"
      ]
     },
     "execution_count": 758,
     "metadata": {},
     "output_type": "execute_result"
    },
    {
     "data": {
      "image/png": "[encoded data removed]",
      "text/plain": [
       "<Figure size 1080x360 with 1 Axes>"
      ]
     },
     "metadata": {
      "needs_background": "light"
     },
     "output_type": "display_data"
    }
   ],
   "source": [
    "model.layers[0].plot_tree()\n",
    "xx=np.linspace(-1.5, 1.5, num=50)\n",
    "yy=model.predict(xx,batch_size=len(xx))\n",
    "plt.plot(x,y,'.')\n",
    "plt.plot(xx,yy,'-')"
   ]
  },
  {
   "cell_type": "code",
   "execution_count": 752,
   "metadata": {},
   "outputs": [
    {
     "data": {
      "text/plain": [
       "[<matplotlib.lines.Line2D at 0x7f5f7cfc2890>]"
      ]
     },
     "execution_count": 752,
     "metadata": {},
     "output_type": "execute_result"
    },
    {
     "data": {
      "image/png": "[encoded data removed]",
      "text/plain": [
       "<Figure size 1080x360 with 1 Axes>"
      ]
     },
     "metadata": {
      "needs_background": "light"
     },
     "output_type": "display_data"
    }
   ],
   "source": [
    "x=list(range(100))\n",
    "y=[]\n",
    "for i in x:\n",
    "    model.layers[0].iters=i+1\n",
    "    y.append(np.array(model.layers[0].call([[0]]))[0][0])\n",
    "    \n",
    "plt.plot(x,y)"
   ]
  },
  {
   "cell_type": "code",
   "execution_count": 735,
   "metadata": {
    "scrolled": true
   },
   "outputs": [
    {
     "name": "stdout",
     "output_type": "stream",
     "text": [
      "[array([[-4.35133696e-01, -3.82817239e-01,  1.00779855e+00,\n",
      "        -1.90945709e+00, -5.85617304e-01,  3.11477721e-01,\n",
      "         1.26077855e+00, -7.93397665e-01, -1.33701086e+00,\n",
      "        -6.11941040e-01,  1.05031955e+00, -5.16675234e-01,\n",
      "        -1.83850661e-01, -1.64480120e-01,  1.04476273e+00,\n",
      "        -6.46939427e-02,  9.36235189e-02, -7.52130032e-01,\n",
      "        -7.98891336e-02, -8.04597855e-01, -1.98219323e+00,\n",
      "        -5.94056785e-01,  8.10802653e-02, -3.04626852e-01,\n",
      "         6.44273221e-01],\n",
      "       [ 1.82733297e-01, -1.44214034e-01,  5.31425357e-01,\n",
      "        -5.87327778e-01,  3.24634284e-01, -4.60622340e-01,\n",
      "         9.05655563e-01,  9.15762663e-01,  3.59049469e-01,\n",
      "        -2.66594052e-01,  3.12989205e-01,  2.47303955e-02,\n",
      "         9.41657722e-01,  2.30040506e-01, -1.04913771e+00,\n",
      "         2.66246438e-01,  2.36928731e-01,  9.14195180e-01,\n",
      "         7.70181358e-01,  7.39425659e-01,  3.82544518e-01,\n",
      "         6.94042087e-01, -9.23836887e-01,  5.58402658e-01,\n",
      "        -1.44927919e+00],\n",
      "       [ 6.24963284e-01, -4.99207288e-01, -7.47801661e-01,\n",
      "        -4.87280935e-01, -2.83093229e-02,  4.55203414e-01,\n",
      "         8.62634718e-01, -5.62616706e-01, -1.15570390e+00,\n",
      "         8.11499834e-01, -4.34345543e-01,  7.78487980e-01,\n",
      "        -8.59433591e-01,  1.04448187e+00,  2.33558178e-01,\n",
      "        -6.51262999e-01, -5.30412979e-03,  2.51290590e-01,\n",
      "        -5.66926360e-01, -5.90205073e-01, -9.67112362e-01,\n",
      "         6.57553673e-01,  4.52957481e-01, -5.58243752e-01,\n",
      "        -1.82884336e-01],\n",
      "       [-3.99318218e-01,  2.64845163e-01, -1.43170729e-01,\n",
      "         1.78623676e+00, -5.84035873e-01, -5.13673663e-01,\n",
      "        -2.31712490e-01, -4.54868525e-01,  2.64033675e-01,\n",
      "         1.71533585e-01, -4.79146302e-01, -8.76593232e-01,\n",
      "         1.73139423e-01, -4.14997309e-01, -4.40498918e-01,\n",
      "         1.15799379e+00, -1.27379799e+00,  4.37091179e-02,\n",
      "         3.07148218e-01,  2.76240140e-01, -3.02081883e-01,\n",
      "        -5.89111686e-01,  7.62050629e-01,  3.05427372e-01,\n",
      "        -1.00560737e+00],\n",
      "       [-9.51429605e-01, -7.81583786e-01, -7.33824551e-01,\n",
      "        -3.65674049e-01,  7.86968529e-01,  3.13493997e-01,\n",
      "         5.71756423e-01,  5.18893123e-01, -9.60779309e-01,\n",
      "        -3.08737069e-01,  2.71621048e-01, -3.64881188e-01,\n",
      "        -5.00601046e-02,  8.62733483e-01, -1.47585526e-01,\n",
      "        -8.77905190e-01, -7.03878701e-01,  5.15652537e-01,\n",
      "         5.27126610e-01,  6.71814084e-01,  1.36290148e-01,\n",
      "         6.77931845e-01, -1.11635067e-01, -3.38485017e-02,\n",
      "        -9.28151369e-01],\n",
      "       [ 6.14729643e-01, -2.13160694e-01, -6.42895401e-02,\n",
      "        -4.37964201e-01,  8.43626857e-01,  1.05943418e+00,\n",
      "        -4.83183265e-01, -9.71061945e-01,  5.25117695e-01,\n",
      "        -7.29809821e-01,  7.28153110e-01,  3.43423754e-01,\n",
      "        -1.00641155e+00,  1.05429924e+00,  2.79149860e-01,\n",
      "        -6.42104372e-02, -1.84063107e-01, -3.57548177e-01,\n",
      "        -1.16657209e+00, -4.79561031e-01,  1.56756088e-01,\n",
      "         8.32986176e-01, -2.25141525e-01,  4.81711468e-03,\n",
      "         7.18187213e-01],\n",
      "       [ 6.69529438e-01,  3.85263145e-01,  6.09645426e-01,\n",
      "         6.37012839e-01, -1.19719701e-03, -8.42206240e-01,\n",
      "         6.81371510e-01, -8.88644218e-01, -4.54726130e-01,\n",
      "        -2.71823347e-01, -5.96669793e-01, -5.14138520e-01,\n",
      "        -1.09809577e+00,  5.32862961e-01,  2.57573873e-01,\n",
      "         9.08083081e-01, -8.36768210e-01, -4.67097610e-01,\n",
      "         8.37726295e-01, -5.63069522e-01, -1.48829436e+00,\n",
      "        -7.03263521e-01,  4.51642394e-01, -7.52459943e-01,\n",
      "        -3.35458964e-01],\n",
      "       [-7.47056723e-01, -8.26943099e-01, -1.97460935e-01,\n",
      "         1.03887296e+00, -9.40128803e-01, -2.84627020e-01,\n",
      "        -8.01078379e-01, -5.11601746e-01,  5.92275023e-01,\n",
      "         7.36840725e-01, -1.02830768e+00,  9.73127306e-01,\n",
      "        -2.80237347e-01, -5.84764928e-02, -6.17471218e-01,\n",
      "         2.70328727e-02, -1.22223340e-01,  5.41877866e-01,\n",
      "        -5.59940219e-01, -4.03349012e-01,  6.03424311e-01,\n",
      "         3.32452357e-01,  7.81478733e-02, -2.82871753e-01,\n",
      "        -4.10250515e-01],\n",
      "       [ 7.25892544e-01, -1.30927199e-02, -2.92221040e-01,\n",
      "         1.17677903e+00,  6.92149580e-01, -6.31618440e-01,\n",
      "         6.68640494e-01,  3.79348770e-02,  5.74393332e-01,\n",
      "        -2.57221103e-01,  1.05826187e+00, -1.00725345e-01,\n",
      "         8.05824816e-01,  9.74994183e-01,  3.19650993e-02,\n",
      "         8.06530118e-01,  1.12729228e+00, -9.40576077e-01,\n",
      "        -2.37676740e-01, -7.65165627e-01,  1.09614420e+00,\n",
      "         9.05581474e-01, -7.84094334e-02,  8.76551494e-02,\n",
      "         3.87390852e-01],\n",
      "       [ 3.31845522e-01,  4.77186263e-01,  4.38499451e-01,\n",
      "        -7.38375261e-02, -2.27558613e-01,  7.31716394e-01,\n",
      "        -6.90861702e-01,  5.81514597e-01, -4.00190800e-01,\n",
      "         5.41428685e-01,  1.61872372e-01, -1.02253222e+00,\n",
      "        -6.00407302e-01, -1.95522591e-01,  4.38027143e-01,\n",
      "         2.82525808e-01,  1.27451017e-01,  1.14205849e+00,\n",
      "        -6.06466889e-01, -3.89366895e-01, -1.17216408e+00,\n",
      "        -6.11311495e-01, -6.71566725e-01,  6.61420166e-01,\n",
      "        -3.33852530e-01],\n",
      "       [ 6.72237396e-01, -9.14227903e-01,  5.86003542e-01,\n",
      "        -6.31147444e-01, -9.53315377e-01,  9.77076292e-01,\n",
      "         9.95381176e-01, -8.14420283e-02, -1.50935322e-01,\n",
      "        -2.40416139e-01,  1.00001144e+00, -6.80037260e-01,\n",
      "        -5.68789005e-01, -2.62554437e-01, -7.71874964e-01,\n",
      "        -4.41406369e-01, -9.52642038e-02, -4.67774987e-01,\n",
      "        -4.24393505e-01,  2.40413323e-01, -6.66718841e-01,\n",
      "        -9.47909594e-01, -9.20607626e-01,  6.53477669e-01,\n",
      "         1.17864716e+00],\n",
      "       [ 4.27839994e-01, -7.26602554e-01, -9.12993789e-01,\n",
      "         5.46962246e-02,  7.37062693e-01,  9.77005541e-01,\n",
      "         5.59014454e-02,  9.88952741e-02,  4.64011967e-01,\n",
      "        -9.79753673e-01, -4.40995276e-01,  3.58590096e-01,\n",
      "         1.83861986e-01, -7.36053705e-01,  8.26383412e-01,\n",
      "         1.75372213e-01,  5.65625846e-01, -1.04783869e+00,\n",
      "         7.75188033e-04,  7.05050588e-01, -8.18699241e-01,\n",
      "         4.48076010e-01, -1.65152103e-01, -3.82194072e-01,\n",
      "         1.23222135e-01],\n",
      "       [-6.74206018e-01, -6.57355726e-01,  3.37426931e-01,\n",
      "         3.38839889e-01,  6.34753287e-01, -6.01545095e-01,\n",
      "        -1.09302747e+00, -7.15116084e-01, -8.42675149e-01,\n",
      "        -4.92390990e-01,  5.60227036e-01, -2.61725783e-01,\n",
      "         7.12236583e-01,  4.30091798e-01,  3.45213920e-01,\n",
      "         2.59446025e-01, -7.31187046e-01, -9.70160127e-01,\n",
      "         9.27210152e-01,  6.07943118e-01,  6.68086171e-01,\n",
      "        -2.62509584e-01, -9.98376548e-01, -7.38013864e-01,\n",
      "         8.59965980e-02],\n",
      "       [-6.12223148e-01,  2.74195552e-01,  7.94288874e-01,\n",
      "         9.66505706e-01,  5.11929691e-01,  3.87343496e-01,\n",
      "         1.61655366e-01, -8.88174772e-01, -8.63987446e-01,\n",
      "         4.33960091e-03, -7.63628721e-01, -7.50024974e-01,\n",
      "         2.37047449e-01, -1.57294631e-01, -3.11181426e-01,\n",
      "        -6.87385142e-01,  1.50918618e-01, -1.37277499e-01,\n",
      "        -3.36743772e-01,  1.59855038e-01, -1.00497735e+00,\n",
      "         2.38992482e-01,  1.07710409e+00,  1.21362932e-01,\n",
      "         1.02685332e+00],\n",
      "       [ 7.28078842e-01, -7.43757427e-01,  5.96933626e-02,\n",
      "        -7.10673153e-01, -5.33039212e-01, -8.15033257e-01,\n",
      "         1.32634544e+00, -6.71500564e-01,  4.12622035e-01,\n",
      "        -5.44518650e-01,  8.39899361e-01, -8.82918417e-01,\n",
      "        -5.58614254e-01,  8.26438189e-01,  3.73772413e-01,\n",
      "        -8.23798537e-01,  1.07232675e-01, -8.77821505e-01,\n",
      "        -7.76987016e-01,  5.29201210e-01, -5.60851872e-01,\n",
      "        -3.95647973e-01, -5.85738540e-01, -4.17665780e-01,\n",
      "         1.80812869e-02],\n",
      "       [-4.84582186e-01,  8.92221153e-01,  5.08560278e-02,\n",
      "         1.14549410e+00,  5.30091166e-01, -6.94812417e-01,\n",
      "         1.70042366e-02,  4.43741493e-02,  2.65703142e-01,\n",
      "         2.15704843e-01, -1.07230850e-01,  8.39080930e-01,\n",
      "        -4.34914082e-01, -1.23120651e-01, -4.80462700e-01,\n",
      "         5.89698672e-01,  3.27670991e-01,  5.68814814e-01,\n",
      "        -9.07869160e-01,  7.52580687e-02,  4.07670796e-01,\n",
      "         5.03890216e-01,  5.34893930e-01, -7.85051525e-01,\n",
      "        -2.22648382e-01],\n",
      "       [ 4.04299259e-01, -8.48646224e-01,  6.24279618e-01,\n",
      "        -3.74221683e-01, -9.73940432e-01,  7.67393053e-01,\n",
      "         7.77214348e-01,  5.87920904e-01, -1.53302819e-01,\n",
      "        -5.93545854e-01,  6.27884269e-01,  9.66881752e-01,\n",
      "         7.31165528e-01,  5.15221894e-01, -8.09812307e-01,\n",
      "         5.98311007e-01,  3.61472331e-02,  7.67655313e-01,\n",
      "        -8.24346662e-01,  1.67746127e-01,  3.86323392e-01,\n",
      "         4.88669574e-02, -2.33108565e-01,  2.47876123e-01,\n",
      "         7.75215268e-01],\n",
      "       [-6.44226074e-01,  9.53828871e-01,  8.58106911e-01,\n",
      "         1.61045477e-01,  9.64671612e-01, -5.76968729e-01,\n",
      "        -3.12437415e-01,  1.41965151e-01,  6.00599885e-01,\n",
      "         8.34481955e-01, -6.88987732e-01, -1.17692895e-01,\n",
      "        -4.89484191e-01,  8.55917573e-01, -1.07441604e+00,\n",
      "         5.73766291e-01, -7.80176520e-01, -5.66478789e-01,\n",
      "        -1.38176993e-01, -6.35265231e-01, -7.63754666e-01,\n",
      "        -1.29107898e-02, -7.50238717e-01,  4.90233928e-01,\n",
      "        -1.29067528e+00],\n",
      "       [-6.69558048e-01, -3.95459592e-01,  8.46901298e-01,\n",
      "        -8.22473288e-01,  9.14524496e-01, -1.44015282e-01,\n",
      "         3.24818820e-01,  5.42972982e-02,  2.30580419e-01,\n",
      "        -7.08818257e-01, -1.06136096e+00, -1.94977522e-01,\n",
      "         8.43133628e-01, -6.69592977e-01,  4.77442831e-01,\n",
      "         5.51203847e-01,  8.12661469e-01,  1.91102058e-01,\n",
      "         9.71620232e-02,  8.60080197e-02, -1.52850494e-01,\n",
      "        -2.96084553e-01, -3.47226635e-02,  9.59540784e-01,\n",
      "        -9.54644024e-01],\n",
      "       [-3.90621424e-01, -5.83829939e-01, -6.62105978e-01,\n",
      "         5.21529555e-01, -7.63210237e-01,  3.19858491e-01,\n",
      "         6.96421087e-01,  1.91042066e-01, -5.38046360e-02,\n",
      "         8.40223908e-01,  4.98687863e-01, -5.81613660e-01,\n",
      "        -5.52333951e-01, -7.07872570e-01, -5.75712621e-01,\n",
      "        -7.09303141e-01, -5.45784533e-01,  2.75586009e-01,\n",
      "         9.68334436e-01, -7.12716401e-01,  2.07117155e-01,\n",
      "        -9.33885455e-01,  5.89122958e-02,  9.71436918e-01,\n",
      "         9.00379658e-01],\n",
      "       [ 9.92400885e-01, -6.61907017e-01, -6.10427499e-01,\n",
      "        -7.24059463e-01, -1.10030258e+00,  8.08279037e-01,\n",
      "        -7.99892247e-01, -6.18001223e-01,  4.84053612e-01,\n",
      "        -1.12338734e+00, -3.87933284e-01,  6.70371652e-01,\n",
      "         1.18149549e-01,  8.91618013e-01, -1.89786702e-02,\n",
      "         4.53804463e-01,  7.75096059e-01, -1.14071798e+00,\n",
      "        -8.89848411e-01, -4.41228747e-01,  1.58081889e+00,\n",
      "         1.00510824e+00, -4.53666687e-01,  2.21015692e-01,\n",
      "         1.90295100e+00],\n",
      "       [-3.89668941e-01, -1.36878192e-01, -4.49472159e-01,\n",
      "         4.73076046e-01, -5.14721036e-01,  6.94566190e-01,\n",
      "        -2.63780445e-01, -1.10512450e-01, -2.37909004e-01,\n",
      "        -2.74473540e-02,  7.07673788e-01, -8.40279818e-01,\n",
      "         1.63696483e-01, -4.28727359e-01,  1.81085035e-01,\n",
      "         4.37837631e-01, -3.72278720e-01, -3.77173752e-01,\n",
      "         3.99650425e-01, -1.86486199e-01,  2.36330599e-01,\n",
      "         6.28735065e-01,  4.00009722e-01,  6.23430729e-01,\n",
      "         5.35762489e-01],\n",
      "       [-7.04417229e-02,  1.06605208e+00, -1.83468267e-01,\n",
      "         1.41196102e-01, -6.82061374e-01, -4.80714440e-01,\n",
      "         9.87421095e-01,  3.33019614e-01,  2.56031752e-01,\n",
      "         9.66905773e-01, -1.39725953e-01, -8.39386761e-01,\n",
      "        -9.01408434e-01, -8.91667545e-01, -2.00232685e-01,\n",
      "        -6.42949790e-02,  8.15328419e-01,  7.01635838e-01,\n",
      "         6.27967119e-01, -1.88051239e-01, -4.88216817e-01,\n",
      "        -1.16212344e+00,  1.00821543e+00,  2.54511148e-01,\n",
      "         3.26191396e-01],\n",
      "       [ 2.55080223e-01, -7.31940031e-01, -7.17812717e-01,\n",
      "         7.97994137e-01, -6.42297924e-01, -5.97894907e-01,\n",
      "        -6.14541590e-01, -6.75629556e-01, -1.06751752e+00,\n",
      "        -9.19479668e-01,  5.57788074e-01,  7.64576674e-01,\n",
      "         4.37893629e-01,  4.49634641e-01,  7.39646733e-01,\n",
      "        -3.83171171e-01, -6.83466271e-02, -2.94842958e-01,\n",
      "         1.51291728e-01, -4.36386615e-01,  6.04450479e-02,\n",
      "        -5.02511442e-01, -3.83593626e-02,  3.50374430e-01,\n",
      "        -9.23400640e-01],\n",
      "       [ 6.69289589e-01,  2.13022545e-01,  5.52630067e-01,\n",
      "         5.75737596e-01, -1.12471855e+00,  1.13217127e+00,\n",
      "         1.56593412e-01,  9.54227597e-02,  5.26547670e-01,\n",
      "         6.35118783e-01,  1.07409632e+00,  1.20634103e+00,\n",
      "         8.85094762e-01,  1.83810249e-01,  4.60368454e-01,\n",
      "         1.69915766e-01,  1.05324697e+00,  2.06213623e-01,\n",
      "        -4.65889513e-01,  8.44502002e-02, -7.43550479e-01,\n",
      "        -5.67885697e-01, -7.45068014e-01, -6.52302086e-01,\n",
      "         1.14723429e-01]], dtype=float32)]\n",
      "[array([[0.9757525]], dtype=float32)]\n"
     ]
    }
   ],
   "source": [
    "# Print Weights \n",
    "for layer in model.layers:\n",
    "    print(layer.get_weights())"
   ]
  },
  {
   "cell_type": "code",
   "execution_count": 414,
   "metadata": {
    "scrolled": false
   },
   "outputs": [
    {
     "name": "stdout",
     "output_type": "stream",
     "text": [
      "Model: \"sequential_73\"\n",
      "_________________________________________________________________\n",
      "Layer (type)                 Output Shape              Param #   \n",
      "=================================================================\n",
      "rwnn_178 (RWNN)              (1, 1)                    10000     \n",
      "=================================================================\n",
      "Total params: 10,000\n",
      "Trainable params: 10,000\n",
      "Non-trainable params: 0\n",
      "_________________________________________________________________\n",
      "Train on 1000 samples\n",
      "Epoch 1/80\n",
      "1000/1000 [==============================] - 1s 1ms/sample - loss: 1.1277\n",
      "Epoch 2/80\n",
      "1000/1000 [==============================] - 0s 382us/sample - loss: 1.1817\n",
      "Epoch 3/80\n",
      "1000/1000 [==============================] - 0s 383us/sample - loss: 1.1817\n",
      "Epoch 4/80\n",
      "1000/1000 [==============================] - 0s 443us/sample - loss: 1.1817\n",
      "Epoch 5/80\n",
      "1000/1000 [==============================] - 0s 398us/sample - loss: 1.1817\n",
      "Epoch 6/80\n",
      "1000/1000 [==============================] - 0s 456us/sample - loss: 1.1817\n",
      "Epoch 7/80\n",
      "1000/1000 [==============================] - 0s 408us/sample - loss: 1.1817\n",
      "Epoch 8/80\n",
      "1000/1000 [==============================] - 0s 422us/sample - loss: 1.1817\n",
      "Epoch 9/80\n",
      "1000/1000 [==============================] - 0s 395us/sample - loss: 1.1817\n",
      "Epoch 10/80\n",
      "1000/1000 [==============================] - 0s 408us/sample - loss: 1.1817\n",
      "Epoch 11/80\n",
      "1000/1000 [==============================] - 0s 412us/sample - loss: 1.1817\n",
      "Epoch 12/80\n",
      "1000/1000 [==============================] - 0s 416us/sample - loss: 1.1817\n",
      "Epoch 13/80\n",
      "1000/1000 [==============================] - 0s 446us/sample - loss: 1.1817\n",
      "Epoch 14/80\n",
      "1000/1000 [==============================] - 0s 412us/sample - loss: 1.1817\n",
      "Epoch 15/80\n",
      "1000/1000 [==============================] - 0s 462us/sample - loss: 1.1817\n",
      "Epoch 16/80\n",
      "1000/1000 [==============================] - 0s 467us/sample - loss: 1.1817\n",
      "Epoch 17/80\n",
      "1000/1000 [==============================] - 1s 511us/sample - loss: 1.1817\n",
      "Epoch 18/80\n",
      "1000/1000 [==============================] - 0s 495us/sample - loss: 1.1817\n",
      "Epoch 19/80\n",
      "1000/1000 [==============================] - 0s 438us/sample - loss: 1.1817\n",
      "Epoch 20/80\n",
      "1000/1000 [==============================] - 0s 454us/sample - loss: 1.1817\n",
      "Epoch 21/80\n",
      "1000/1000 [==============================] - 0s 485us/sample - loss: 1.1817\n",
      "Epoch 22/80\n",
      "1000/1000 [==============================] - 1s 513us/sample - loss: 1.1817\n",
      "Epoch 23/80\n",
      "1000/1000 [==============================] - 0s 461us/sample - loss: 1.1817\n",
      "Epoch 24/80\n",
      "1000/1000 [==============================] - 0s 472us/sample - loss: 1.1817\n",
      "Epoch 25/80\n",
      "1000/1000 [==============================] - 0s 418us/sample - loss: 1.1817\n",
      "Epoch 26/80\n",
      "1000/1000 [==============================] - 1s 502us/sample - loss: 1.1817\n",
      "Epoch 27/80\n",
      "1000/1000 [==============================] - 0s 480us/sample - loss: 1.1817\n",
      "Epoch 28/80\n",
      "1000/1000 [==============================] - 0s 476us/sample - loss: 1.1817\n",
      "Epoch 29/80\n",
      "1000/1000 [==============================] - 0s 456us/sample - loss: 1.1817\n",
      "Epoch 30/80\n",
      "1000/1000 [==============================] - 0s 338us/sample - loss: 1.1817\n",
      "Epoch 31/80\n",
      "1000/1000 [==============================] - 0s 459us/sample - loss: 1.1817\n",
      "Epoch 32/80\n",
      "1000/1000 [==============================] - 0s 419us/sample - loss: 1.1817\n",
      "Epoch 33/80\n",
      "1000/1000 [==============================] - 0s 458us/sample - loss: 1.1817\n",
      "Epoch 34/80\n",
      "1000/1000 [==============================] - 1s 568us/sample - loss: 1.1817\n",
      "Epoch 35/80\n",
      "1000/1000 [==============================] - 0s 490us/sample - loss: 1.1817\n",
      "Epoch 36/80\n",
      "1000/1000 [==============================] - 1s 502us/sample - loss: 1.1817\n",
      "Epoch 37/80\n",
      "1000/1000 [==============================] - 1s 516us/sample - loss: 1.1817\n",
      "Epoch 38/80\n",
      "1000/1000 [==============================] - 0s 420us/sample - loss: 1.1817\n",
      "Epoch 39/80\n",
      "1000/1000 [==============================] - 1s 506us/sample - loss: 1.1817\n",
      "Epoch 40/80\n",
      "1000/1000 [==============================] - 0s 459us/sample - loss: 1.1817\n",
      "Epoch 41/80\n",
      "1000/1000 [==============================] - 0s 433us/sample - loss: 1.1817\n",
      "Epoch 42/80\n",
      "1000/1000 [==============================] - 0s 464us/sample - loss: 1.1817\n",
      "Epoch 43/80\n",
      "1000/1000 [==============================] - 0s 488us/sample - loss: 1.1817\n",
      "Epoch 44/80\n",
      "1000/1000 [==============================] - 0s 471us/sample - loss: 1.1817\n",
      "Epoch 45/80\n",
      "1000/1000 [==============================] - 0s 495us/sample - loss: 1.1817\n",
      "Epoch 46/80\n",
      "1000/1000 [==============================] - 0s 491us/sample - loss: 1.1817\n",
      "Epoch 47/80\n",
      "1000/1000 [==============================] - 0s 471us/sample - loss: 1.1817\n",
      "Epoch 48/80\n",
      "1000/1000 [==============================] - 1s 513us/sample - loss: 1.1817\n",
      "Epoch 49/80\n",
      "1000/1000 [==============================] - 0s 467us/sample - loss: 1.1817\n",
      "Epoch 50/80\n",
      "1000/1000 [==============================] - 0s 472us/sample - loss: 1.1817\n",
      "Epoch 51/80\n",
      "1000/1000 [==============================] - 0s 412us/sample - loss: 1.1817\n",
      "Epoch 52/80\n",
      "1000/1000 [==============================] - 0s 433us/sample - loss: 1.1817\n",
      "Epoch 53/80\n",
      "1000/1000 [==============================] - 0s 427us/sample - loss: 1.1817\n",
      "Epoch 54/80\n",
      "1000/1000 [==============================] - 0s 456us/sample - loss: 1.1817\n",
      "Epoch 55/80\n",
      "1000/1000 [==============================] - 0s 385us/sample - loss: 1.1817\n",
      "Epoch 56/80\n",
      "1000/1000 [==============================] - 0s 445us/sample - loss: 1.1817\n",
      "Epoch 57/80\n",
      "1000/1000 [==============================] - 0s 377us/sample - loss: 1.1817\n",
      "Epoch 58/80\n",
      "1000/1000 [==============================] - 0s 386us/sample - loss: 1.1817\n",
      "Epoch 59/80\n",
      "1000/1000 [==============================] - 0s 436us/sample - loss: 1.1817\n",
      "Epoch 60/80\n",
      "1000/1000 [==============================] - 0s 455us/sample - loss: 1.1817\n",
      "Epoch 61/80\n",
      "1000/1000 [==============================] - 0s 405us/sample - loss: 1.1817\n",
      "Epoch 62/80\n",
      "1000/1000 [==============================] - 0s 440us/sample - loss: 1.1817\n",
      "Epoch 63/80\n",
      "1000/1000 [==============================] - 0s 450us/sample - loss: 1.1817\n",
      "Epoch 64/80\n",
      "1000/1000 [==============================] - 0s 466us/sample - loss: 1.1817\n",
      "Epoch 65/80\n",
      "1000/1000 [==============================] - 1s 503us/sample - loss: 1.1817\n",
      "Epoch 66/80\n",
      "1000/1000 [==============================] - 0s 458us/sample - loss: 1.1817\n",
      "Epoch 67/80\n",
      "1000/1000 [==============================] - 0s 427us/sample - loss: 1.1817\n",
      "Epoch 68/80\n",
      "1000/1000 [==============================] - 0s 475us/sample - loss: 1.1817\n",
      "Epoch 69/80\n",
      "1000/1000 [==============================] - 0s 481us/sample - loss: 1.1817\n",
      "Epoch 70/80\n",
      "1000/1000 [==============================] - 0s 466us/sample - loss: 1.1817\n",
      "Epoch 71/80\n",
      "1000/1000 [==============================] - 1s 502us/sample - loss: 1.1817\n",
      "Epoch 72/80\n",
      "1000/1000 [==============================] - 0s 460us/sample - loss: 1.1817\n",
      "Epoch 73/80\n",
      "1000/1000 [==============================] - 0s 499us/sample - loss: 1.1817\n",
      "Epoch 74/80\n",
      "1000/1000 [==============================] - 0s 494us/sample - loss: 1.1817\n",
      "Epoch 75/80\n",
      "1000/1000 [==============================] - 0s 453us/sample - loss: 1.1817\n",
      "Epoch 76/80\n",
      "1000/1000 [==============================] - 0s 457us/sample - loss: 1.1817\n",
      "Epoch 77/80\n",
      "1000/1000 [==============================] - 0s 492us/sample - loss: 1.1817\n",
      "Epoch 78/80\n",
      "1000/1000 [==============================] - 0s 486us/sample - loss: 1.1817\n",
      "Epoch 79/80\n",
      "1000/1000 [==============================] - 0s 499us/sample - loss: 1.1817\n",
      "Epoch 80/80\n",
      "1000/1000 [==============================] - 0s 500us/sample - loss: 1.1817\n"
     ]
    },
    {
     "data": {
      "text/plain": [
       "[<matplotlib.lines.Line2D at 0x7f5f9c4ed710>]"
      ]
     },
     "execution_count": 414,
     "metadata": {},
     "output_type": "execute_result"
    },
    {
     "data": {
      "image/png": "[encoded data removed]",
      "text/plain": [
       "<Figure size 432x288 with 1 Axes>"
      ]
     },
     "metadata": {
      "needs_background": "light"
     },
     "output_type": "display_data"
    }
   ],
   "source": [
    "init=keras.initializers.RandomUniform(minval=-1, maxval=1, seed=42)\n",
    "\n",
    "model = Sequential() \n",
    "model.add(RWNN(100,1, activation='tanh',input_shape=(1,),kernel_initializer=init,iters=10, kernel_constraint=removeSynapses(100))) \n",
    "          \n",
    "model.summary()\n",
    "\n",
    "opt=keras.optimizers.Adagrad(learning_rate=1)\n",
    "model.compile(loss='mean_squared_error',\n",
    "              optimizer=opt)\n",
    "\n",
    "\n",
    "history = model.fit(x, y,\n",
    "                    batch_size=10,\n",
    "                    epochs=80,\n",
    "                    verbose=1)\n",
    "yy=model.predict(x,batch_size=len(x))\n",
    "plt.plot(x,y,'.')\n",
    "plt.plot(x,yy,'.')"
   ]
  },
  {
   "cell_type": "code",
   "execution_count": 363,
   "metadata": {},
   "outputs": [
    {
     "data": {
      "text/plain": [
       "array([[0., 1., 1., 1., 1., 1., 1., 1., 1., 1.],\n",
       "       [0., 0., 1., 1., 1., 1., 1., 1., 1., 1.],\n",
       "       [0., 0., 0., 1., 1., 1., 1., 1., 1., 1.],\n",
       "       [0., 0., 0., 0., 1., 1., 1., 1., 1., 1.],\n",
       "       [0., 0., 0., 0., 0., 1., 1., 1., 1., 1.],\n",
       "       [0., 0., 0., 0., 0., 0., 1., 1., 1., 1.],\n",
       "       [0., 0., 0., 0., 0., 0., 0., 1., 1., 1.],\n",
       "       [0., 0., 0., 0., 0., 0., 0., 0., 1., 1.],\n",
       "       [0., 0., 0., 0., 0., 0., 0., 0., 0., 1.],\n",
       "       [0., 0., 0., 0., 0., 0., 0., 0., 0., 0.]])"
      ]
     },
     "execution_count": 363,
     "metadata": {},
     "output_type": "execute_result"
    }
   ],
   "source": [
    "msk=np.ones([10,10])\n",
    "msk *= 1 - np.tri(*msk.shape)\n",
    "msk"
   ]
  },
  {
   "cell_type": "code",
   "execution_count": 360,
   "metadata": {},
   "outputs": [
    {
     "data": {
      "text/plain": [
       "array([[0., 1., 1., 1., 1., 1., 1., 1., 1., 1.],\n",
       "       [0., 0., 1., 1., 1., 1., 1., 1., 1., 1.],\n",
       "       [0., 0., 0., 1., 1., 1., 1., 1., 1., 1.],\n",
       "       [0., 0., 0., 0., 1., 1., 1., 1., 1., 1.],\n",
       "       [0., 0., 0., 0., 0., 1., 1., 1., 1., 1.],\n",
       "       [0., 0., 0., 0., 0., 0., 1., 1., 1., 1.],\n",
       "       [0., 0., 0., 0., 0., 0., 0., 1., 1., 1.],\n",
       "       [0., 0., 0., 0., 0., 0., 0., 0., 1., 1.],\n",
       "       [0., 0., 0., 0., 0., 0., 0., 0., 0., 1.],\n",
       "       [0., 0., 0., 0., 0., 0., 0., 0., 0., 0.]])"
      ]
     },
     "execution_count": 360,
     "metadata": {},
     "output_type": "execute_result"
    }
   ],
   "source": [
    "msk=np.ones([10,10])\n",
    "for i in range(10):\n",
    "    for j in range(10):\n",
    "        if i>=j:\n",
    "            msk[i,j]=0\n",
    "msk"
   ]
  },
  {
   "cell_type": "code",
   "execution_count": 368,
   "metadata": {},
   "outputs": [
    {
     "data": {
      "text/plain": [
       "array([[0., 1., 1., 1., 1., 1., 1., 1., 1., 1.],\n",
       "       [0., 0., 1., 1., 1., 1., 1., 1., 1., 1.],\n",
       "       [0., 0., 0., 1., 1., 1., 1., 1., 1., 1.],\n",
       "       [0., 0., 0., 0., 1., 1., 1., 1., 1., 1.],\n",
       "       [0., 0., 0., 0., 0., 1., 1., 1., 1., 1.],\n",
       "       [0., 0., 0., 0., 0., 0., 1., 1., 1., 1.],\n",
       "       [0., 0., 0., 0., 0., 0., 0., 1., 1., 1.],\n",
       "       [0., 0., 0., 0., 0., 0., 0., 0., 1., 1.],\n",
       "       [0., 0., 0., 0., 0., 0., 0., 0., 0., 1.],\n",
       "       [0., 0., 0., 0., 0., 0., 0., 0., 0., 0.]])"
      ]
     },
     "execution_count": 368,
     "metadata": {},
     "output_type": "execute_result"
    }
   ],
   "source": [
    "1-np.tri(10,10)"
   ]
  },
  {
   "cell_type": "code",
   "execution_count": 402,
   "metadata": {},
   "outputs": [
    {
     "data": {
      "text/plain": [
       "<tf.Tensor: shape=(1, 3), dtype=int32, numpy=array([[ 0,  1, 11]], dtype=int32)>"
      ]
     },
     "execution_count": 402,
     "metadata": {},
     "output_type": "execute_result"
    }
   ],
   "source": [
    "from tensorflow.python.ops import gen_math_ops\n",
    "gen_math_ops.mat_mul([[1,10,100]], 1-np.tri(3,3))"
   ]
  },
  {
   "cell_type": "code",
   "execution_count": 406,
   "metadata": {},
   "outputs": [
    {
     "data": {
      "text/plain": [
       "array([111., 111., 111.])"
      ]
     },
     "execution_count": 406,
     "metadata": {},
     "output_type": "execute_result"
    }
   ],
   "source": [
    "np.dot([1,10,100], np.ones([3,3]))"
   ]
  },
  {
   "cell_type": "code",
   "execution_count": 788,
   "metadata": {},
   "outputs": [],
   "source": [
    "def sig(x):\n",
    "    return 1 / (1 + np.exp(-x))\n",
    "#     return (np.exp(x) - np.exp(-x)) / (np.exp(x) + np.exp(-x)) "
   ]
  },
  {
   "cell_type": "code",
   "execution_count": 789,
   "metadata": {},
   "outputs": [
    {
     "data": {
      "text/plain": [
       "0.7310585786300049"
      ]
     },
     "execution_count": 789,
     "metadata": {},
     "output_type": "execute_result"
    }
   ],
   "source": [
    "sig(1)"
   ]
  },
  {
   "cell_type": "code",
   "execution_count": 807,
   "metadata": {},
   "outputs": [
    {
     "data": {
      "text/plain": [
       "[<matplotlib.lines.Line2D at 0x7f5f78df2790>]"
      ]
     },
     "execution_count": 807,
     "metadata": {},
     "output_type": "execute_result"
    },
    {
     "data": {
      "image/png": "[encoded data removed]",
      "text/plain": [
       "<Figure size 1080x360 with 1 Axes>"
      ]
     },
     "metadata": {
      "needs_background": "light"
     },
     "output_type": "display_data"
    }
   ],
   "source": [
    "x = list(range(20))\n",
    "y=[-1]\n",
    "y2=[1]\n",
    "y3=[0]\n",
    "for i in x:\n",
    "    y.append(sig(y[-1]))\n",
    "    y2.append(sig(y2[-1]))\n",
    "    y3.append(sig(y3[-1]))\n",
    "\n",
    "plt.plot(x,y[:len(x)])\n",
    "plt.plot(x,y2[:len(x)])\n",
    "plt.plot(x,y3[:len(x)])"
   ]
  },
  {
   "cell_type": "code",
   "execution_count": 808,
   "metadata": {},
   "outputs": [
    {
     "data": {
      "text/plain": [
       "[-1,\n",
       " 0.2689414213699951,\n",
       " 0.5668330070205946,\n",
       " 0.6380320873724359,\n",
       " 0.6543084758952321,\n",
       " 0.6579807100202137,\n",
       " 0.6588066371986613,\n",
       " 0.6589922651251212,\n",
       " 0.6590339784724807,\n",
       " 0.6590433517412365,\n",
       " 0.6590454579604421,\n",
       " 0.659045931237306,\n",
       " 0.6590460375846879,\n",
       " 0.6590460614814077,\n",
       " 0.6590460668511046,\n",
       " 0.6590460680576988,\n",
       " 0.6590460683288258,\n",
       " 0.6590460683897492,\n",
       " 0.6590460684034389,\n",
       " 0.6590460684065151,\n",
       " 0.6590460684072064]"
      ]
     },
     "execution_count": 808,
     "metadata": {},
     "output_type": "execute_result"
    }
   ],
   "source": [
    "y"
   ]
  },
  {
   "cell_type": "code",
   "execution_count": null,
   "metadata": {},
   "outputs": [],
   "source": []
  }
 ],
 "metadata": {
  "kernelspec": {
   "display_name": "Python 3",
   "language": "python",
   "name": "python3"
  },
  "language_info": {
   "codemirror_mode": {
    "name": "ipython",
    "version": 3
   },
   "file_extension": ".py",
   "mimetype": "text/x-python",
   "name": "python",
   "nbconvert_exporter": "python",
   "pygments_lexer": "ipython3",
   "version": "3.7.4"
  }
 },
 "nbformat": 4,
 "nbformat_minor": 4
}
